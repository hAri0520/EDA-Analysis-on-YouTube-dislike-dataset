{
 "cells": [
  {
   "cell_type": "markdown",
   "id": "443d1a62",
   "metadata": {},
   "source": [
    "# <font color = 'Purple'> 1. Import required libraries and read the provided dataset (youtube_dislike_dataset.csv) and retrieve top 5 and bottom 5 records.</font>\n",
    "\n"
   ]
  },
  {
   "cell_type": "code",
   "execution_count": 102,
   "id": "64079d99",
   "metadata": {},
   "outputs": [],
   "source": [
    "import pandas as pd\n",
    "import matplotlib.pyplot as plt\n",
    "import seaborn as sns\n",
    "import numpy as np\n",
    "import plotly.express as px"
   ]
  },
  {
   "cell_type": "code",
   "execution_count": 103,
   "id": "6458a867",
   "metadata": {},
   "outputs": [
    {
     "name": "stdout",
     "output_type": "stream",
     "text": [
      "The first 5 records of the dataset \n",
      " \n",
      "       video_id                                       title  \\\n",
      "0  --0bCF-iK2E        Jadon Sancho  Magical Skills & Goals   \n",
      "1  --14w5SOEUs          Migos - Avalanche (Official Video)   \n",
      "2  --40TEbZ9Is  Supporting Actress in a Comedy: 73rd Emmys   \n",
      "3  --4tfbSyYDE     JO1'YOUNG (JO1 ver.)' PERFORMANCE VIDEO   \n",
      "4  --DKkzWVh-E                Why Retaining Walls Collapse   \n",
      "\n",
      "                 channel_id          channel_title         published_at  \\\n",
      "0  UC6UL29enLNe4mqwTfAyeNuw             Bundesliga  2021-07-01 10:00:00   \n",
      "1  UCGIelM2Dj3zza3xyV3pL3WQ              MigosVEVO  2021-06-10 16:00:00   \n",
      "2  UClBKH8yZRcM4AsRjDVEdjMg     Television Academy  2021-09-20 01:03:32   \n",
      "3  UCsmXiDP8S40uBeJYxvyulmA                    JO1  2021-03-03 10:00:17   \n",
      "4  UCMOqf8ab-42UUQIdVoKwjlQ  Practical Engineering  2021-12-07 13:00:00   \n",
      "\n",
      "   view_count   likes  dislikes  comment_count  \\\n",
      "0     1048888   19515       226           1319   \n",
      "1    15352638  359277      7479          18729   \n",
      "2      925281   11212       401            831   \n",
      "3     2641597   39131       441           3745   \n",
      "4      715724   32887       367           1067   \n",
      "\n",
      "                                                tags  \\\n",
      "0  football soccer ftbol alemn Bundesliga season ...   \n",
      "1  Migos Avalanche Quality Control Music/Motown R...   \n",
      "2                                                      \n",
      "3  PRODUCE101JAPAN              JO1   TheSTAR STA...   \n",
      "4  retaining wall New Jersey highway Direct Conne...   \n",
      "\n",
      "                                         description  \\\n",
      "0  Enjoy the best skills and goals from Jadon San...   \n",
      "1  Watch the the official video for Migos - \"Aval...   \n",
      "2  Hannah Waddingham wins the Emmy for Supporting...   \n",
      "3  JO1'YOUNG (JO1 ver.)' PERFORMANCE VIDEO\\n\\n---...   \n",
      "4  One of the most important (and innocuous) part...   \n",
      "\n",
      "                                            comments  \n",
      "0  Respect to Dortmund fans,must be sad losing hi...  \n",
      "1  Migos just makes me want to live my live to th...  \n",
      "2  Hannah's energy bursts through any screen. Wel...  \n",
      "3  youngVer><  REN is really PERFECT. It's not ju...  \n",
      "4   Keep up with all my projects here: https://pr...  \n",
      "\n",
      " \n",
      " \n",
      " The last 5 records of the dataset \n",
      " \n",
      "           video_id                                              title  \\\n",
      "37417  zzd4ydafGR0  Lil Tjay - Calling My Phone (feat. 6LACK) [Off...   \n",
      "37418  zziBybeSAtw  PELICANS at LAKERS | FULL GAME HIGHLIGHTS | Ja...   \n",
      "37419  zzk09ESX7e0                 [MV]  (MAMAMOO) - Where Are We Now   \n",
      "37420  zzmQEb0Em5I              FELLIPE ESCUDERO- Master Podcast  #12   \n",
      "37421  zzxPZwaA-8w  Gareth Bale brace secures dramatic comeback on...   \n",
      "\n",
      "                     channel_id      channel_title         published_at  \\\n",
      "37417  UCEB4a5o_6KfjxHwNMnmj54Q           Lil Tjay  2021-02-12 05:03:49   \n",
      "37418  UCWJ2lWNubArHWmf3FIHbfcQ                NBA  2021-01-16 05:39:05   \n",
      "37419  UCuhAUMLzJxlP1W7mEk0_6lA            MAMAMOO  2021-06-02 09:00:10   \n",
      "37420  UC8NjnNWMsRqq11NYvHAQb1g     Master Podcast  2020-10-20 20:59:30   \n",
      "37421  UCEg25rdRZXg32iwai6N6l0w  Tottenham Hotspur  2021-05-23 21:00:31   \n",
      "\n",
      "       view_count    likes  dislikes  comment_count  \\\n",
      "37417   120408275  2180780     35871          81360   \n",
      "37418     2841917    20759      1049           2624   \n",
      "37419    13346678   720854      4426          90616   \n",
      "37420      252057    19198      1234           1471   \n",
      "37421     2252090    34063       868           2004   \n",
      "\n",
      "                                                    tags  \\\n",
      "37417  Lil Tjay Steady Calling My Phone Calling My Ph...   \n",
      "37418  NBA G League Basketball game-0022000187 Lakers...   \n",
      "37419  MAMAMOO  WAW  WAW MAMAMOO WAW Where Are We Now...   \n",
      "37420  master masterpodcast lord lord vinheteiro z z ...   \n",
      "37421  Spurs Tottenham Hotspur   Tottenham Leicester ...   \n",
      "\n",
      "                                             description  \\\n",
      "37417  Official video for \"Calling My Phone\" by Lil T...   \n",
      "37418  PELICANS at LAKERS | FULL GAME HIGHLIGHTS | Ja...   \n",
      "37419  [MV]  (MAMAMOO) - Where Are We Now\\n\\nInstagra...   \n",
      "37420  DOCTOR HAIR\\nhttps://www.thedoctorhair.com/?fb...   \n",
      "37421  Two minute highlights from Tottenham Hotspur's...   \n",
      "\n",
      "                                                comments  \n",
      "37417  'DESTINED 2 WIN' OUT NOW !! https://liltjay.ln...  \n",
      "37418  Montrezl Harrell is going crazy with the rebou...  \n",
      "37419  I honestly do not know why this song hit so ha...  \n",
      "37420  Foi um prazer passar esta tarde com vocs debat...  \n",
      "37421  Thank you Kane for everything you have given t...  \n"
     ]
    }
   ],
   "source": [
    "data=pd.read_csv('youtube_dislike_dataset.csv')   #reading data from file\n",
    "print(\"The first 5 records of the dataset \\n \\n\",data.head())   #diplaying the head\n",
    "print(\"\\n \\n \\n The last 5 records of the dataset \\n \\n\", data.tail())   #displaying the tail"
   ]
  },
  {
   "cell_type": "markdown",
   "id": "a822792b",
   "metadata": {},
   "source": [
    "# <font color = 'Purple'> 2. Check the info of the dataframe and write your inferences on data types and shape of the dataset.</font>"
   ]
  },
  {
   "cell_type": "code",
   "execution_count": 104,
   "id": "328a63f6",
   "metadata": {},
   "outputs": [
    {
     "name": "stdout",
     "output_type": "stream",
     "text": [
      "<class 'pandas.core.frame.DataFrame'>\n",
      "RangeIndex: 37422 entries, 0 to 37421\n",
      "Data columns (total 12 columns):\n",
      " #   Column         Non-Null Count  Dtype \n",
      "---  ------         --------------  ----- \n",
      " 0   video_id       37422 non-null  object\n",
      " 1   title          37422 non-null  object\n",
      " 2   channel_id     37422 non-null  object\n",
      " 3   channel_title  37422 non-null  object\n",
      " 4   published_at   37422 non-null  object\n",
      " 5   view_count     37422 non-null  int64 \n",
      " 6   likes          37422 non-null  int64 \n",
      " 7   dislikes       37422 non-null  int64 \n",
      " 8   comment_count  37422 non-null  int64 \n",
      " 9   tags           37422 non-null  object\n",
      " 10  description    37422 non-null  object\n",
      " 11  comments       37264 non-null  object\n",
      "dtypes: int64(4), object(8)\n",
      "memory usage: 3.4+ MB\n",
      "None \n",
      " \n",
      "\n",
      "The shape of the dataset is:  (37422, 12)\n"
     ]
    }
   ],
   "source": [
    "print(data.info(),'\\n \\n')   # basic information about the data such as data types no.of rows and non null rows\n",
    "print(\"The shape of the dataset is: \",data.shape)   #displaying the shape of the data"
   ]
  },
  {
   "cell_type": "markdown",
   "id": "4486cf4f",
   "metadata": {},
   "source": [
    "### observation \n",
    "We can see from the above infromation about each fields of the data that other than the comments filed no fields have null values or we can say that only in comments field we have 158 empty records.\n",
    "\n",
    "Other inference we can make from the above information is that the dataset contains  \n",
    "**_Numerical data_** which consists **int 64** datatype in the fields _View_count, likes, dislikes and comment_count._  \n",
    "**_Categorical data_** which consists **object** datatype in the fields _video_id, title, channel_id, channel_title, published_at, tags, descriptions and comments._\n",
    "\n",
    "The shape of the data is also can be infered that the dataset contains 12 fields and 37422 records"
   ]
  },
  {
   "cell_type": "markdown",
   "id": "166da7af",
   "metadata": {},
   "source": [
    "# <font color = 'Purple'> 3. Check for the Percentage of the missing values and drop or impute them.</font>"
   ]
  },
  {
   "cell_type": "code",
   "execution_count": 105,
   "id": "342ed5d7",
   "metadata": {},
   "outputs": [
    {
     "name": "stdout",
     "output_type": "stream",
     "text": [
      "The percentage of missing value of the total dataset is:  0.035184294443553706\n",
      "Total percentage of data that will be removed if we drop all missing records is:  0.4222115333226444\n"
     ]
    }
   ],
   "source": [
    "print(\"The percentage of missing value of the total dataset is: \",((data.isnull().sum().sum()/(37422*12))*100))\n",
    "#finding the percentage of missing data\n",
    "\n",
    "print(\"Total percentage of data that will be removed if we drop all missing records is: \",(((data.isnull().sum().sum()*12)/(37422*12))*100))\n",
    "#finding what percentage of data will be lost when we drop the rows with missing values."
   ]
  },
  {
   "cell_type": "markdown",
   "id": "4c84c96d",
   "metadata": {},
   "source": [
    "Since only <font color = 'Red'>**0.422%**</font> of data is lost if we drop the missing value, we can drop the records where the comments field is null."
   ]
  },
  {
   "cell_type": "code",
   "execution_count": 106,
   "id": "fab81f3f",
   "metadata": {},
   "outputs": [
    {
     "data": {
      "text/plain": [
       "(37264, 12)"
      ]
     },
     "execution_count": 106,
     "metadata": {},
     "output_type": "execute_result"
    }
   ],
   "source": [
    "data_copy=data.copy()   # making a copy of original data for analysis\n",
    "data_copy.dropna(inplace=True)   # droping the empty records\n",
    "data_copy.shape   # shape of data after droping the empty records"
   ]
  },
  {
   "cell_type": "markdown",
   "id": "5a5c3697",
   "metadata": {},
   "source": [
    "# <font color = 'Purple'> 4. Check the statistical summary of both numerical and categorical columns and write your inferences.</font>"
   ]
  },
  {
   "cell_type": "markdown",
   "id": "14c3c944",
   "metadata": {},
   "source": [
    "### Numerical data"
   ]
  },
  {
   "cell_type": "code",
   "execution_count": 107,
   "id": "b186324c",
   "metadata": {},
   "outputs": [
    {
     "data": {
      "text/html": [
       "<div>\n",
       "<style scoped>\n",
       "    .dataframe tbody tr th:only-of-type {\n",
       "        vertical-align: middle;\n",
       "    }\n",
       "\n",
       "    .dataframe tbody tr th {\n",
       "        vertical-align: top;\n",
       "    }\n",
       "\n",
       "    .dataframe thead th {\n",
       "        text-align: right;\n",
       "    }\n",
       "</style>\n",
       "<table border=\"1\" class=\"dataframe\">\n",
       "  <thead>\n",
       "    <tr style=\"text-align: right;\">\n",
       "      <th></th>\n",
       "      <th>view_count</th>\n",
       "      <th>likes</th>\n",
       "      <th>dislikes</th>\n",
       "      <th>comment_count</th>\n",
       "    </tr>\n",
       "  </thead>\n",
       "  <tbody>\n",
       "    <tr>\n",
       "      <th>count</th>\n",
       "      <td>3.726400e+04</td>\n",
       "      <td>3.726400e+04</td>\n",
       "      <td>3.726400e+04</td>\n",
       "      <td>3.726400e+04</td>\n",
       "    </tr>\n",
       "    <tr>\n",
       "      <th>mean</th>\n",
       "      <td>5.710821e+06</td>\n",
       "      <td>1.672867e+05</td>\n",
       "      <td>4.996434e+03</td>\n",
       "      <td>9.966953e+03</td>\n",
       "    </tr>\n",
       "    <tr>\n",
       "      <th>std</th>\n",
       "      <td>2.431304e+07</td>\n",
       "      <td>5.384931e+05</td>\n",
       "      <td>3.075194e+04</td>\n",
       "      <td>1.173465e+05</td>\n",
       "    </tr>\n",
       "    <tr>\n",
       "      <th>min</th>\n",
       "      <td>2.036800e+04</td>\n",
       "      <td>2.200000e+01</td>\n",
       "      <td>3.000000e+00</td>\n",
       "      <td>1.000000e+00</td>\n",
       "    </tr>\n",
       "    <tr>\n",
       "      <th>25%</th>\n",
       "      <td>5.141305e+05</td>\n",
       "      <td>1.331725e+04</td>\n",
       "      <td>2.827500e+02</td>\n",
       "      <td>9.140000e+02</td>\n",
       "    </tr>\n",
       "    <tr>\n",
       "      <th>50%</th>\n",
       "      <td>1.321860e+06</td>\n",
       "      <td>4.255600e+04</td>\n",
       "      <td>7.980000e+02</td>\n",
       "      <td>2.347000e+03</td>\n",
       "    </tr>\n",
       "    <tr>\n",
       "      <th>75%</th>\n",
       "      <td>3.674527e+06</td>\n",
       "      <td>1.309665e+05</td>\n",
       "      <td>2.466250e+03</td>\n",
       "      <td>6.212000e+03</td>\n",
       "    </tr>\n",
       "    <tr>\n",
       "      <th>max</th>\n",
       "      <td>1.322797e+09</td>\n",
       "      <td>3.183768e+07</td>\n",
       "      <td>2.397733e+06</td>\n",
       "      <td>1.607103e+07</td>\n",
       "    </tr>\n",
       "  </tbody>\n",
       "</table>\n",
       "</div>"
      ],
      "text/plain": [
       "         view_count         likes      dislikes  comment_count\n",
       "count  3.726400e+04  3.726400e+04  3.726400e+04   3.726400e+04\n",
       "mean   5.710821e+06  1.672867e+05  4.996434e+03   9.966953e+03\n",
       "std    2.431304e+07  5.384931e+05  3.075194e+04   1.173465e+05\n",
       "min    2.036800e+04  2.200000e+01  3.000000e+00   1.000000e+00\n",
       "25%    5.141305e+05  1.331725e+04  2.827500e+02   9.140000e+02\n",
       "50%    1.321860e+06  4.255600e+04  7.980000e+02   2.347000e+03\n",
       "75%    3.674527e+06  1.309665e+05  2.466250e+03   6.212000e+03\n",
       "max    1.322797e+09  3.183768e+07  2.397733e+06   1.607103e+07"
      ]
     },
     "execution_count": 107,
     "metadata": {},
     "output_type": "execute_result"
    }
   ],
   "source": [
    "data_copy.describe()"
   ]
  },
  {
   "cell_type": "markdown",
   "id": "36ba21d3",
   "metadata": {},
   "source": [
    "### Observation\n",
    "From the above information we can infere various summary statics acreoss the numerical data such as the **Central tendency of the data** via  _mean, median that is 50% of data_ and also the **duspersion of the data** such as range via _min and max_, IQR via the _25% and 75% values_, and standard deviation"
   ]
  },
  {
   "cell_type": "markdown",
   "id": "c1a49546",
   "metadata": {},
   "source": [
    "#### Mode"
   ]
  },
  {
   "cell_type": "code",
   "execution_count": 108,
   "id": "987c3105",
   "metadata": {},
   "outputs": [
    {
     "name": "stdout",
     "output_type": "stream",
     "text": [
      "The mode of each numerical field is \n",
      " \n",
      "   view_count  likes  dislikes  comment_count\n",
      "0    784442.0   2020      88.0          451.0\n",
      "1         NaN   3504       NaN            NaN\n"
     ]
    }
   ],
   "source": [
    "print(\"The mode of each numerical field is \\n \")\n",
    "print(data_copy[['view_count','likes','dislikes','comment_count']].mode())   \n",
    "# Calutaing mode of the numeric data as it was not in describe() function"
   ]
  },
  {
   "cell_type": "markdown",
   "id": "0911970f",
   "metadata": {},
   "source": [
    "### Observation\n",
    "\n",
    "The above information shows the most occuring values that is **_mode_** in the numerical data field."
   ]
  },
  {
   "cell_type": "markdown",
   "id": "6e28ab75",
   "metadata": {},
   "source": [
    "### Categorical data"
   ]
  },
  {
   "cell_type": "markdown",
   "id": "32700bd5",
   "metadata": {},
   "source": [
    "#### Mode of the categorical data fields."
   ]
  },
  {
   "cell_type": "code",
   "execution_count": 109,
   "id": "f2db307e",
   "metadata": {},
   "outputs": [
    {
     "name": "stdout",
     "output_type": "stream",
     "text": [
      "Index(['video_id', 'title', 'channel_id', 'channel_title', 'published_at',\n",
      "       'tags', 'description', 'comments'],\n",
      "      dtype='object')\n"
     ]
    }
   ],
   "source": [
    "cat_col=data.columns[data.dtypes == object]   # picking only feilds with categorical data\n",
    "print(cat_col)"
   ]
  },
  {
   "cell_type": "code",
   "execution_count": 110,
   "id": "e187b4b6",
   "metadata": {},
   "outputs": [
    {
     "name": "stdout",
     "output_type": "stream",
     "text": [
      "\n",
      "\n",
      " The Satistical summary of categorical data \n",
      "\n",
      "\n"
     ]
    },
    {
     "data": {
      "text/html": [
       "<div>\n",
       "<style scoped>\n",
       "    .dataframe tbody tr th:only-of-type {\n",
       "        vertical-align: middle;\n",
       "    }\n",
       "\n",
       "    .dataframe tbody tr th {\n",
       "        vertical-align: top;\n",
       "    }\n",
       "\n",
       "    .dataframe thead th {\n",
       "        text-align: right;\n",
       "    }\n",
       "</style>\n",
       "<table border=\"1\" class=\"dataframe\">\n",
       "  <thead>\n",
       "    <tr style=\"text-align: right;\">\n",
       "      <th></th>\n",
       "      <th>video_id</th>\n",
       "      <th>title</th>\n",
       "      <th>channel_id</th>\n",
       "      <th>channel_title</th>\n",
       "      <th>published_at</th>\n",
       "      <th>tags</th>\n",
       "      <th>description</th>\n",
       "      <th>comments</th>\n",
       "    </tr>\n",
       "  </thead>\n",
       "  <tbody>\n",
       "    <tr>\n",
       "      <th>count</th>\n",
       "      <td>37264</td>\n",
       "      <td>37264</td>\n",
       "      <td>37264</td>\n",
       "      <td>37264</td>\n",
       "      <td>37264</td>\n",
       "      <td>37264</td>\n",
       "      <td>37264</td>\n",
       "      <td>37264</td>\n",
       "    </tr>\n",
       "    <tr>\n",
       "      <th>unique</th>\n",
       "      <td>37264</td>\n",
       "      <td>36958</td>\n",
       "      <td>10891</td>\n",
       "      <td>10813</td>\n",
       "      <td>36617</td>\n",
       "      <td>28705</td>\n",
       "      <td>35479</td>\n",
       "      <td>37264</td>\n",
       "    </tr>\n",
       "    <tr>\n",
       "      <th>top</th>\n",
       "      <td>--0bCF-iK2E</td>\n",
       "      <td>www</td>\n",
       "      <td>UCNAf1k0yIjyGu3k9BwAg3lg</td>\n",
       "      <td>Sky Sports Football</td>\n",
       "      <td>2020-10-16 04:00:10</td>\n",
       "      <td></td>\n",
       "      <td></td>\n",
       "      <td>Respect to Dortmund fans,must be sad losing hi...</td>\n",
       "    </tr>\n",
       "    <tr>\n",
       "      <th>freq</th>\n",
       "      <td>1</td>\n",
       "      <td>21</td>\n",
       "      <td>533</td>\n",
       "      <td>533</td>\n",
       "      <td>6</td>\n",
       "      <td>3808</td>\n",
       "      <td>587</td>\n",
       "      <td>1</td>\n",
       "    </tr>\n",
       "  </tbody>\n",
       "</table>\n",
       "</div>"
      ],
      "text/plain": [
       "           video_id  title                channel_id        channel_title  \\\n",
       "count         37264  37264                     37264                37264   \n",
       "unique        37264  36958                     10891                10813   \n",
       "top     --0bCF-iK2E    www  UCNAf1k0yIjyGu3k9BwAg3lg  Sky Sports Football   \n",
       "freq              1     21                       533                  533   \n",
       "\n",
       "               published_at   tags description  \\\n",
       "count                 37264  37264       37264   \n",
       "unique                36617  28705       35479   \n",
       "top     2020-10-16 04:00:10                      \n",
       "freq                      6   3808         587   \n",
       "\n",
       "                                                 comments  \n",
       "count                                               37264  \n",
       "unique                                              37264  \n",
       "top     Respect to Dortmund fans,must be sad losing hi...  \n",
       "freq                                                    1  "
      ]
     },
     "execution_count": 110,
     "metadata": {},
     "output_type": "execute_result"
    }
   ],
   "source": [
    "cat_data=data_copy[cat_col]   # Creacting datafreme with the picked categorical fields\n",
    "print(\"\\n\\n The Satistical summary of categorical data \\n\\n\")\n",
    "cat_data.describe()   #Statistical summary on categorical data "
   ]
  },
  {
   "cell_type": "markdown",
   "id": "59b82b19",
   "metadata": {},
   "source": [
    "  \n",
    "  \n",
    "\n",
    "# <font color = 'Purple'> 5. Convert datatype of column published_at from object to pandas datetime.</font>"
   ]
  },
  {
   "cell_type": "code",
   "execution_count": 111,
   "id": "11b9158f",
   "metadata": {},
   "outputs": [],
   "source": [
    "data_copy['published_at'] =  pd.to_datetime(data_copy['published_at'])\n",
    "\n",
    "#Converting the datatype of published_at field from object to datetime using to_datetime "
   ]
  },
  {
   "cell_type": "markdown",
   "id": "7eb1d5cd",
   "metadata": {},
   "source": [
    "# <font color = 'Purple'> 6. Create a new column as 'published_month' using the column published_at (display the months only) </font>"
   ]
  },
  {
   "cell_type": "code",
   "execution_count": 112,
   "id": "e06bc09a",
   "metadata": {},
   "outputs": [
    {
     "data": {
      "text/html": [
       "<div>\n",
       "<style scoped>\n",
       "    .dataframe tbody tr th:only-of-type {\n",
       "        vertical-align: middle;\n",
       "    }\n",
       "\n",
       "    .dataframe tbody tr th {\n",
       "        vertical-align: top;\n",
       "    }\n",
       "\n",
       "    .dataframe thead th {\n",
       "        text-align: right;\n",
       "    }\n",
       "</style>\n",
       "<table border=\"1\" class=\"dataframe\">\n",
       "  <thead>\n",
       "    <tr style=\"text-align: right;\">\n",
       "      <th></th>\n",
       "      <th>video_id</th>\n",
       "      <th>title</th>\n",
       "      <th>channel_id</th>\n",
       "      <th>channel_title</th>\n",
       "      <th>published_at</th>\n",
       "      <th>view_count</th>\n",
       "      <th>likes</th>\n",
       "      <th>dislikes</th>\n",
       "      <th>comment_count</th>\n",
       "      <th>tags</th>\n",
       "      <th>description</th>\n",
       "      <th>comments</th>\n",
       "      <th>published_month</th>\n",
       "    </tr>\n",
       "  </thead>\n",
       "  <tbody>\n",
       "    <tr>\n",
       "      <th>0</th>\n",
       "      <td>--0bCF-iK2E</td>\n",
       "      <td>Jadon Sancho  Magical Skills &amp; Goals</td>\n",
       "      <td>UC6UL29enLNe4mqwTfAyeNuw</td>\n",
       "      <td>Bundesliga</td>\n",
       "      <td>2021-07-01 10:00:00</td>\n",
       "      <td>1048888</td>\n",
       "      <td>19515</td>\n",
       "      <td>226</td>\n",
       "      <td>1319</td>\n",
       "      <td>football soccer ftbol alemn Bundesliga season ...</td>\n",
       "      <td>Enjoy the best skills and goals from Jadon San...</td>\n",
       "      <td>Respect to Dortmund fans,must be sad losing hi...</td>\n",
       "      <td>7</td>\n",
       "    </tr>\n",
       "    <tr>\n",
       "      <th>1</th>\n",
       "      <td>--14w5SOEUs</td>\n",
       "      <td>Migos - Avalanche (Official Video)</td>\n",
       "      <td>UCGIelM2Dj3zza3xyV3pL3WQ</td>\n",
       "      <td>MigosVEVO</td>\n",
       "      <td>2021-06-10 16:00:00</td>\n",
       "      <td>15352638</td>\n",
       "      <td>359277</td>\n",
       "      <td>7479</td>\n",
       "      <td>18729</td>\n",
       "      <td>Migos Avalanche Quality Control Music/Motown R...</td>\n",
       "      <td>Watch the the official video for Migos - \"Aval...</td>\n",
       "      <td>Migos just makes me want to live my live to th...</td>\n",
       "      <td>6</td>\n",
       "    </tr>\n",
       "    <tr>\n",
       "      <th>2</th>\n",
       "      <td>--40TEbZ9Is</td>\n",
       "      <td>Supporting Actress in a Comedy: 73rd Emmys</td>\n",
       "      <td>UClBKH8yZRcM4AsRjDVEdjMg</td>\n",
       "      <td>Television Academy</td>\n",
       "      <td>2021-09-20 01:03:32</td>\n",
       "      <td>925281</td>\n",
       "      <td>11212</td>\n",
       "      <td>401</td>\n",
       "      <td>831</td>\n",
       "      <td></td>\n",
       "      <td>Hannah Waddingham wins the Emmy for Supporting...</td>\n",
       "      <td>Hannah's energy bursts through any screen. Wel...</td>\n",
       "      <td>9</td>\n",
       "    </tr>\n",
       "    <tr>\n",
       "      <th>3</th>\n",
       "      <td>--4tfbSyYDE</td>\n",
       "      <td>JO1'YOUNG (JO1 ver.)' PERFORMANCE VIDEO</td>\n",
       "      <td>UCsmXiDP8S40uBeJYxvyulmA</td>\n",
       "      <td>JO1</td>\n",
       "      <td>2021-03-03 10:00:17</td>\n",
       "      <td>2641597</td>\n",
       "      <td>39131</td>\n",
       "      <td>441</td>\n",
       "      <td>3745</td>\n",
       "      <td>PRODUCE101JAPAN              JO1   TheSTAR STA...</td>\n",
       "      <td>JO1'YOUNG (JO1 ver.)' PERFORMANCE VIDEO\\n\\n---...</td>\n",
       "      <td>youngVer&gt;&lt;  REN is really PERFECT. It's not ju...</td>\n",
       "      <td>3</td>\n",
       "    </tr>\n",
       "    <tr>\n",
       "      <th>4</th>\n",
       "      <td>--DKkzWVh-E</td>\n",
       "      <td>Why Retaining Walls Collapse</td>\n",
       "      <td>UCMOqf8ab-42UUQIdVoKwjlQ</td>\n",
       "      <td>Practical Engineering</td>\n",
       "      <td>2021-12-07 13:00:00</td>\n",
       "      <td>715724</td>\n",
       "      <td>32887</td>\n",
       "      <td>367</td>\n",
       "      <td>1067</td>\n",
       "      <td>retaining wall New Jersey highway Direct Conne...</td>\n",
       "      <td>One of the most important (and innocuous) part...</td>\n",
       "      <td>Keep up with all my projects here: https://pr...</td>\n",
       "      <td>12</td>\n",
       "    </tr>\n",
       "  </tbody>\n",
       "</table>\n",
       "</div>"
      ],
      "text/plain": [
       "      video_id                                       title  \\\n",
       "0  --0bCF-iK2E        Jadon Sancho  Magical Skills & Goals   \n",
       "1  --14w5SOEUs          Migos - Avalanche (Official Video)   \n",
       "2  --40TEbZ9Is  Supporting Actress in a Comedy: 73rd Emmys   \n",
       "3  --4tfbSyYDE     JO1'YOUNG (JO1 ver.)' PERFORMANCE VIDEO   \n",
       "4  --DKkzWVh-E                Why Retaining Walls Collapse   \n",
       "\n",
       "                 channel_id          channel_title        published_at  \\\n",
       "0  UC6UL29enLNe4mqwTfAyeNuw             Bundesliga 2021-07-01 10:00:00   \n",
       "1  UCGIelM2Dj3zza3xyV3pL3WQ              MigosVEVO 2021-06-10 16:00:00   \n",
       "2  UClBKH8yZRcM4AsRjDVEdjMg     Television Academy 2021-09-20 01:03:32   \n",
       "3  UCsmXiDP8S40uBeJYxvyulmA                    JO1 2021-03-03 10:00:17   \n",
       "4  UCMOqf8ab-42UUQIdVoKwjlQ  Practical Engineering 2021-12-07 13:00:00   \n",
       "\n",
       "   view_count   likes  dislikes  comment_count  \\\n",
       "0     1048888   19515       226           1319   \n",
       "1    15352638  359277      7479          18729   \n",
       "2      925281   11212       401            831   \n",
       "3     2641597   39131       441           3745   \n",
       "4      715724   32887       367           1067   \n",
       "\n",
       "                                                tags  \\\n",
       "0  football soccer ftbol alemn Bundesliga season ...   \n",
       "1  Migos Avalanche Quality Control Music/Motown R...   \n",
       "2                                                      \n",
       "3  PRODUCE101JAPAN              JO1   TheSTAR STA...   \n",
       "4  retaining wall New Jersey highway Direct Conne...   \n",
       "\n",
       "                                         description  \\\n",
       "0  Enjoy the best skills and goals from Jadon San...   \n",
       "1  Watch the the official video for Migos - \"Aval...   \n",
       "2  Hannah Waddingham wins the Emmy for Supporting...   \n",
       "3  JO1'YOUNG (JO1 ver.)' PERFORMANCE VIDEO\\n\\n---...   \n",
       "4  One of the most important (and innocuous) part...   \n",
       "\n",
       "                                            comments  published_month  \n",
       "0  Respect to Dortmund fans,must be sad losing hi...                7  \n",
       "1  Migos just makes me want to live my live to th...                6  \n",
       "2  Hannah's energy bursts through any screen. Wel...                9  \n",
       "3  youngVer><  REN is really PERFECT. It's not ju...                3  \n",
       "4   Keep up with all my projects here: https://pr...               12  "
      ]
     },
     "execution_count": 112,
     "metadata": {},
     "output_type": "execute_result"
    }
   ],
   "source": [
    "data_copy['published_month']=pd.DatetimeIndex(data_copy['published_at']).month   # Creating a new field published_month\n",
    "data_copy.head()"
   ]
  },
  {
   "cell_type": "markdown",
   "id": "28eb9ebb",
   "metadata": {},
   "source": [
    "# <font color = '#800080'>7. Replace the numbers in the column published_month as names of the months"
   ]
  },
  {
   "cell_type": "code",
   "execution_count": 113,
   "id": "5af5a0e7",
   "metadata": {},
   "outputs": [
    {
     "data": {
      "text/html": [
       "<div>\n",
       "<style scoped>\n",
       "    .dataframe tbody tr th:only-of-type {\n",
       "        vertical-align: middle;\n",
       "    }\n",
       "\n",
       "    .dataframe tbody tr th {\n",
       "        vertical-align: top;\n",
       "    }\n",
       "\n",
       "    .dataframe thead th {\n",
       "        text-align: right;\n",
       "    }\n",
       "</style>\n",
       "<table border=\"1\" class=\"dataframe\">\n",
       "  <thead>\n",
       "    <tr style=\"text-align: right;\">\n",
       "      <th></th>\n",
       "      <th>video_id</th>\n",
       "      <th>title</th>\n",
       "      <th>channel_id</th>\n",
       "      <th>channel_title</th>\n",
       "      <th>published_at</th>\n",
       "      <th>view_count</th>\n",
       "      <th>likes</th>\n",
       "      <th>dislikes</th>\n",
       "      <th>comment_count</th>\n",
       "      <th>tags</th>\n",
       "      <th>description</th>\n",
       "      <th>comments</th>\n",
       "      <th>published_month</th>\n",
       "    </tr>\n",
       "  </thead>\n",
       "  <tbody>\n",
       "    <tr>\n",
       "      <th>0</th>\n",
       "      <td>--0bCF-iK2E</td>\n",
       "      <td>Jadon Sancho  Magical Skills &amp; Goals</td>\n",
       "      <td>UC6UL29enLNe4mqwTfAyeNuw</td>\n",
       "      <td>Bundesliga</td>\n",
       "      <td>2021-07-01 10:00:00</td>\n",
       "      <td>1048888</td>\n",
       "      <td>19515</td>\n",
       "      <td>226</td>\n",
       "      <td>1319</td>\n",
       "      <td>football soccer ftbol alemn Bundesliga season ...</td>\n",
       "      <td>Enjoy the best skills and goals from Jadon San...</td>\n",
       "      <td>Respect to Dortmund fans,must be sad losing hi...</td>\n",
       "      <td>Jul</td>\n",
       "    </tr>\n",
       "    <tr>\n",
       "      <th>1</th>\n",
       "      <td>--14w5SOEUs</td>\n",
       "      <td>Migos - Avalanche (Official Video)</td>\n",
       "      <td>UCGIelM2Dj3zza3xyV3pL3WQ</td>\n",
       "      <td>MigosVEVO</td>\n",
       "      <td>2021-06-10 16:00:00</td>\n",
       "      <td>15352638</td>\n",
       "      <td>359277</td>\n",
       "      <td>7479</td>\n",
       "      <td>18729</td>\n",
       "      <td>Migos Avalanche Quality Control Music/Motown R...</td>\n",
       "      <td>Watch the the official video for Migos - \"Aval...</td>\n",
       "      <td>Migos just makes me want to live my live to th...</td>\n",
       "      <td>Jun</td>\n",
       "    </tr>\n",
       "    <tr>\n",
       "      <th>2</th>\n",
       "      <td>--40TEbZ9Is</td>\n",
       "      <td>Supporting Actress in a Comedy: 73rd Emmys</td>\n",
       "      <td>UClBKH8yZRcM4AsRjDVEdjMg</td>\n",
       "      <td>Television Academy</td>\n",
       "      <td>2021-09-20 01:03:32</td>\n",
       "      <td>925281</td>\n",
       "      <td>11212</td>\n",
       "      <td>401</td>\n",
       "      <td>831</td>\n",
       "      <td></td>\n",
       "      <td>Hannah Waddingham wins the Emmy for Supporting...</td>\n",
       "      <td>Hannah's energy bursts through any screen. Wel...</td>\n",
       "      <td>Sep</td>\n",
       "    </tr>\n",
       "    <tr>\n",
       "      <th>3</th>\n",
       "      <td>--4tfbSyYDE</td>\n",
       "      <td>JO1'YOUNG (JO1 ver.)' PERFORMANCE VIDEO</td>\n",
       "      <td>UCsmXiDP8S40uBeJYxvyulmA</td>\n",
       "      <td>JO1</td>\n",
       "      <td>2021-03-03 10:00:17</td>\n",
       "      <td>2641597</td>\n",
       "      <td>39131</td>\n",
       "      <td>441</td>\n",
       "      <td>3745</td>\n",
       "      <td>PRODUCE101JAPAN              JO1   TheSTAR STA...</td>\n",
       "      <td>JO1'YOUNG (JO1 ver.)' PERFORMANCE VIDEO\\n\\n---...</td>\n",
       "      <td>youngVer&gt;&lt;  REN is really PERFECT. It's not ju...</td>\n",
       "      <td>Mar</td>\n",
       "    </tr>\n",
       "    <tr>\n",
       "      <th>4</th>\n",
       "      <td>--DKkzWVh-E</td>\n",
       "      <td>Why Retaining Walls Collapse</td>\n",
       "      <td>UCMOqf8ab-42UUQIdVoKwjlQ</td>\n",
       "      <td>Practical Engineering</td>\n",
       "      <td>2021-12-07 13:00:00</td>\n",
       "      <td>715724</td>\n",
       "      <td>32887</td>\n",
       "      <td>367</td>\n",
       "      <td>1067</td>\n",
       "      <td>retaining wall New Jersey highway Direct Conne...</td>\n",
       "      <td>One of the most important (and innocuous) part...</td>\n",
       "      <td>Keep up with all my projects here: https://pr...</td>\n",
       "      <td>Dec</td>\n",
       "    </tr>\n",
       "  </tbody>\n",
       "</table>\n",
       "</div>"
      ],
      "text/plain": [
       "      video_id                                       title  \\\n",
       "0  --0bCF-iK2E        Jadon Sancho  Magical Skills & Goals   \n",
       "1  --14w5SOEUs          Migos - Avalanche (Official Video)   \n",
       "2  --40TEbZ9Is  Supporting Actress in a Comedy: 73rd Emmys   \n",
       "3  --4tfbSyYDE     JO1'YOUNG (JO1 ver.)' PERFORMANCE VIDEO   \n",
       "4  --DKkzWVh-E                Why Retaining Walls Collapse   \n",
       "\n",
       "                 channel_id          channel_title        published_at  \\\n",
       "0  UC6UL29enLNe4mqwTfAyeNuw             Bundesliga 2021-07-01 10:00:00   \n",
       "1  UCGIelM2Dj3zza3xyV3pL3WQ              MigosVEVO 2021-06-10 16:00:00   \n",
       "2  UClBKH8yZRcM4AsRjDVEdjMg     Television Academy 2021-09-20 01:03:32   \n",
       "3  UCsmXiDP8S40uBeJYxvyulmA                    JO1 2021-03-03 10:00:17   \n",
       "4  UCMOqf8ab-42UUQIdVoKwjlQ  Practical Engineering 2021-12-07 13:00:00   \n",
       "\n",
       "   view_count   likes  dislikes  comment_count  \\\n",
       "0     1048888   19515       226           1319   \n",
       "1    15352638  359277      7479          18729   \n",
       "2      925281   11212       401            831   \n",
       "3     2641597   39131       441           3745   \n",
       "4      715724   32887       367           1067   \n",
       "\n",
       "                                                tags  \\\n",
       "0  football soccer ftbol alemn Bundesliga season ...   \n",
       "1  Migos Avalanche Quality Control Music/Motown R...   \n",
       "2                                                      \n",
       "3  PRODUCE101JAPAN              JO1   TheSTAR STA...   \n",
       "4  retaining wall New Jersey highway Direct Conne...   \n",
       "\n",
       "                                         description  \\\n",
       "0  Enjoy the best skills and goals from Jadon San...   \n",
       "1  Watch the the official video for Migos - \"Aval...   \n",
       "2  Hannah Waddingham wins the Emmy for Supporting...   \n",
       "3  JO1'YOUNG (JO1 ver.)' PERFORMANCE VIDEO\\n\\n---...   \n",
       "4  One of the most important (and innocuous) part...   \n",
       "\n",
       "                                            comments published_month  \n",
       "0  Respect to Dortmund fans,must be sad losing hi...             Jul  \n",
       "1  Migos just makes me want to live my live to th...             Jun  \n",
       "2  Hannah's energy bursts through any screen. Wel...             Sep  \n",
       "3  youngVer><  REN is really PERFECT. It's not ju...             Mar  \n",
       "4   Keep up with all my projects here: https://pr...             Dec  "
      ]
     },
     "execution_count": 113,
     "metadata": {},
     "output_type": "execute_result"
    }
   ],
   "source": [
    "months={1:'Jan', 2:'Feb', 3:'Mar', 4:'Apr', 5:'May', 6:'Jun', 7:'Jul', 8:'Aug', 9:'Sep', 10:'Oct', 11:'Nov', 12:'Dec'}\n",
    "# Creating a dict of months with respective month number\n",
    "\n",
    "data_copy['published_month'].replace(months, inplace=True)\n",
    "# Replacing the month number with respective month name in published_month field\n",
    "\n",
    "data_copy.head()"
   ]
  },
  {
   "cell_type": "markdown",
   "id": "1a361ff1",
   "metadata": {},
   "source": [
    "# <font color = 'Purple'> 8. Find the number of videos published each month and arrange the months in a decreasing order based on the video count.</font>"
   ]
  },
  {
   "cell_type": "code",
   "execution_count": 114,
   "id": "4bc160b7",
   "metadata": {},
   "outputs": [
    {
     "data": {
      "text/plain": [
       "published_month\n",
       "Oct    4976\n",
       "Sep    4854\n",
       "Nov    4821\n",
       "Aug    4250\n",
       "Dec    3063\n",
       "Jul    2331\n",
       "Jun    2305\n",
       "Mar    2248\n",
       "Feb    2125\n",
       "Apr    2119\n",
       "Jan    2099\n",
       "May    2073\n",
       "Name: video_id, dtype: int64"
      ]
     },
     "execution_count": 114,
     "metadata": {},
     "output_type": "execute_result"
    }
   ],
   "source": [
    "data_copy.groupby('published_month')['video_id'].nunique().sort_values(ascending=False)\n",
    "\n",
    "# Using groupby to find the count of videos published in each month and sorting in decreasing order"
   ]
  },
  {
   "cell_type": "markdown",
   "id": "52cfe76c",
   "metadata": {},
   "source": [
    "# <font color = 'Purple'> 9. Find the count of unique video_id, channel_id and channel_title.</font>"
   ]
  },
  {
   "cell_type": "code",
   "execution_count": 115,
   "id": "9a744147",
   "metadata": {},
   "outputs": [
    {
     "name": "stdout",
     "output_type": "stream",
     "text": [
      "The count of unique video_id is:  37264\n",
      "\n",
      "The count of unique channel_id is:  10891\n",
      "\n",
      "The count of unique channel_title is:  10813\n"
     ]
    }
   ],
   "source": [
    "print(\"The count of unique video_id is: \",data_copy['video_id'].nunique())\n",
    "print(\"\\nThe count of unique channel_id is: \",data_copy['channel_id'].nunique())\n",
    "print(\"\\nThe count of unique channel_title is: \",data_copy['channel_title'].nunique())"
   ]
  },
  {
   "cell_type": "markdown",
   "id": "effc9bf3",
   "metadata": {},
   "source": [
    "# <font color = 'Purple'> 10. Find the top10 channel names having the highest number of videos in the dataset and the bottom10 having lowest number of videos. </font>"
   ]
  },
  {
   "cell_type": "code",
   "execution_count": 116,
   "id": "b4e1ef09",
   "metadata": {},
   "outputs": [
    {
     "name": "stdout",
     "output_type": "stream",
     "text": [
      "The list of top 10 channels on basis of the video counts are \n",
      "             channel_title\n",
      "0     Sky Sports Football\n",
      "533      The United Stand\n",
      "834              BT Sport\n",
      "1080                  NBA\n",
      "1289                  NFL\n",
      "1451                  WWE\n",
      "1573         SSSniperWolf\n",
      "1672              SSundee\n",
      "1770            FORMULA 1\n",
      "1857                  NHL\n"
     ]
    }
   ],
   "source": [
    "channel_id_list=data_copy.groupby('channel_id')['video_id'].count().sort_values(ascending=False).to_frame()\n",
    "\n",
    "# Using gropuby to get the count of videos in each unique channel.\n",
    "\n",
    "A=channel_id_list.head(10)   # channel_id with top 10 video count\n",
    "B=channel_id_list.tail(10)   # channel_id with bottom 10 video count\n",
    "\n",
    "C=pd.merge(A,data_copy, on='channel_id')\n",
    "D=C.drop_duplicates(subset=['channel_id'])\n",
    "\n",
    "channel_list=D.iloc[0:10,4:5]\n",
    "print(\"The list of top 10 channels on basis of the video counts are \\n\",channel_list)"
   ]
  },
  {
   "cell_type": "code",
   "execution_count": 117,
   "id": "06b6c618",
   "metadata": {},
   "outputs": [
    {
     "name": "stdout",
     "output_type": "stream",
     "text": [
      "The list of last 10 channels on basis of the video counts are \n",
      "                    channel_title\n",
      "0                      RugbyPass\n",
      "1                       SWISHOUT\n",
      "2                   Watch ACTION\n",
      "3                   trickshotdav\n",
      "4  The Secret Life of my Hamster\n",
      "5                    Sinan Hoxha\n",
      "6                 The RedditNerd\n",
      "7                      TOLOmusic\n",
      "8                 Bares fr Rares\n",
      "9                 Dobre Brothers\n"
     ]
    }
   ],
   "source": [
    "E=pd.merge(B,data_copy, on='channel_id')\n",
    "F=E.drop_duplicates(subset=['channel_id'])\n",
    "\n",
    "channel_list=F.iloc[0:10,4:5]\n",
    "print(\"The list of last 10 channels on basis of the video counts are \\n\",channel_list)"
   ]
  },
  {
   "cell_type": "markdown",
   "id": "efe352e8",
   "metadata": {},
   "source": [
    "# <font color = 'Purple'> 11. Find the title of the video which has the maximum number of likes and the title of the video having minimum likes and write your inferences. </font>"
   ]
  },
  {
   "cell_type": "code",
   "execution_count": 118,
   "id": "ca356cfc",
   "metadata": {},
   "outputs": [
    {
     "name": "stdout",
     "output_type": "stream",
     "text": [
      "The video which has the highest likes is:  BTS () 'Dynamite' Official MV\n"
     ]
    }
   ],
   "source": [
    "likes=pd.pivot_table(data_copy, index='video_id', values='likes')   # using pivot tabel to calculate the likes for each video\n",
    "likes.sort_values('likes', ascending=False, inplace=True)\n",
    "\n",
    "A=likes.head(1)\n",
    "B=pd.merge(A,data_copy, on='video_id')\n",
    "print(\"The video which has the highest likes is: \",B.loc[0,'title'])"
   ]
  },
  {
   "cell_type": "code",
   "execution_count": 119,
   "id": "3f105dab",
   "metadata": {},
   "outputs": [
    {
     "name": "stdout",
     "output_type": "stream",
     "text": [
      "The video which has the highest likes is:  Leading the Charge | Circle K\n"
     ]
    }
   ],
   "source": [
    "C=likes.tail(1)\n",
    "D=pd.merge(C,data_copy, on='video_id')\n",
    "print(\"The video which has the highest likes is: \",D.loc[0,'title'])"
   ]
  },
  {
   "cell_type": "markdown",
   "id": "196842e5",
   "metadata": {},
   "source": [
    "# <font color = 'Purple'> 12. Find the title of the video which has the maximum number of dislikes and the title of the video having minimum dislikes and write your inferences. </font>"
   ]
  },
  {
   "cell_type": "code",
   "execution_count": 120,
   "id": "16a1e9ec",
   "metadata": {},
   "outputs": [
    {
     "name": "stdout",
     "output_type": "stream",
     "text": [
      "The video which has the highest likes is:  Cuties | Official Trailer | Netflix\n"
     ]
    }
   ],
   "source": [
    "dislikes=pd.pivot_table(data_copy, index='video_id', values='dislikes')   # using pivot tabel to calculate the dislikes for each video\n",
    "dislikes.sort_values('dislikes', ascending=False, inplace=True)\n",
    "\n",
    "A=dislikes.head(1)\n",
    "B=pd.merge(A,data_copy, on='video_id')\n",
    "print(\"The video which has the highest likes is: \",B.loc[0,'title'])"
   ]
  },
  {
   "cell_type": "code",
   "execution_count": 121,
   "id": "de024cdd",
   "metadata": {},
   "outputs": [
    {
     "name": "stdout",
     "output_type": "stream",
     "text": [
      "The video which has the highest likes is:  Tims For Good: A Taste Of The Familiar\n"
     ]
    }
   ],
   "source": [
    "C=dislikes.tail(1)\n",
    "D=pd.merge(C,data_copy, on='video_id')\n",
    "print(\"The video which has the highest likes is: \",D.loc[0,'title'])"
   ]
  },
  {
   "cell_type": "markdown",
   "id": "469d6e96",
   "metadata": {},
   "source": [
    "### Observation\n",
    "From the aove results we can say that the video **_'BTS () 'Dynamite' Official MV_** is most liked and vieo that is most disliked is **_Cuties | Official Trailer | Netflix_**"
   ]
  },
  {
   "cell_type": "markdown",
   "id": "13bb13e7",
   "metadata": {},
   "source": [
    "# <font color = 'Purple'> 13. Does the number of views have any effect on how many people disliked the video? Support your answer with a metric and a plot.</font>"
   ]
  },
  {
   "cell_type": "code",
   "execution_count": 122,
   "id": "19d663c2",
   "metadata": {},
   "outputs": [
    {
     "name": "stderr",
     "output_type": "stream",
     "text": [
      "C:\\Users\\hARI\\AppData\\Local\\Temp\\ipykernel_16452\\664035824.py:1: FutureWarning: The default value of numeric_only in DataFrame.corr is deprecated. In a future version, it will default to False. Select only valid columns or specify the value of numeric_only to silence this warning.\n",
      "  data_copy.corr()\n"
     ]
    },
    {
     "data": {
      "text/html": [
       "<div>\n",
       "<style scoped>\n",
       "    .dataframe tbody tr th:only-of-type {\n",
       "        vertical-align: middle;\n",
       "    }\n",
       "\n",
       "    .dataframe tbody tr th {\n",
       "        vertical-align: top;\n",
       "    }\n",
       "\n",
       "    .dataframe thead th {\n",
       "        text-align: right;\n",
       "    }\n",
       "</style>\n",
       "<table border=\"1\" class=\"dataframe\">\n",
       "  <thead>\n",
       "    <tr style=\"text-align: right;\">\n",
       "      <th></th>\n",
       "      <th>view_count</th>\n",
       "      <th>likes</th>\n",
       "      <th>dislikes</th>\n",
       "      <th>comment_count</th>\n",
       "    </tr>\n",
       "  </thead>\n",
       "  <tbody>\n",
       "    <tr>\n",
       "      <th>view_count</th>\n",
       "      <td>1.000000</td>\n",
       "      <td>0.784199</td>\n",
       "      <td>0.684576</td>\n",
       "      <td>0.464442</td>\n",
       "    </tr>\n",
       "    <tr>\n",
       "      <th>likes</th>\n",
       "      <td>0.784199</td>\n",
       "      <td>1.000000</td>\n",
       "      <td>0.679668</td>\n",
       "      <td>0.581117</td>\n",
       "    </tr>\n",
       "    <tr>\n",
       "      <th>dislikes</th>\n",
       "      <td>0.684576</td>\n",
       "      <td>0.679668</td>\n",
       "      <td>1.000000</td>\n",
       "      <td>0.391999</td>\n",
       "    </tr>\n",
       "    <tr>\n",
       "      <th>comment_count</th>\n",
       "      <td>0.464442</td>\n",
       "      <td>0.581117</td>\n",
       "      <td>0.391999</td>\n",
       "      <td>1.000000</td>\n",
       "    </tr>\n",
       "  </tbody>\n",
       "</table>\n",
       "</div>"
      ],
      "text/plain": [
       "               view_count     likes  dislikes  comment_count\n",
       "view_count       1.000000  0.784199  0.684576       0.464442\n",
       "likes            0.784199  1.000000  0.679668       0.581117\n",
       "dislikes         0.684576  0.679668  1.000000       0.391999\n",
       "comment_count    0.464442  0.581117  0.391999       1.000000"
      ]
     },
     "execution_count": 122,
     "metadata": {},
     "output_type": "execute_result"
    }
   ],
   "source": [
    "data_copy.corr()"
   ]
  },
  {
   "cell_type": "code",
   "execution_count": 123,
   "id": "97f8d4f0",
   "metadata": {},
   "outputs": [
    {
     "data": {
      "text/plain": [
       "<Axes: xlabel='view_count', ylabel='dislikes'>"
      ]
     },
     "execution_count": 123,
     "metadata": {},
     "output_type": "execute_result"
    },
    {
     "data": {
      "image/png": "[encoded data removed]",
      "text/plain": [
       "<Figure size 640x480 with 1 Axes>"
      ]
     },
     "metadata": {},
     "output_type": "display_data"
    }
   ],
   "source": [
    "sns.scatterplot(data=data_copy, x='view_count', y='dislikes')"
   ]
  },
  {
   "cell_type": "markdown",
   "id": "10f2fe61",
   "metadata": {},
   "source": [
    "From the above plot we can infer that with increase in the views the count of dislike for the video increases. To say exacty that there is **68.45%** of chance that the count of dislike increases with the view_count "
   ]
  },
  {
   "cell_type": "markdown",
   "id": "2c7e5062",
   "metadata": {},
   "source": [
    "# <font color = 'Purple'> 14. Display all the information about the videos that were published in January, and mention the count of videos that were published in January. </font>"
   ]
  },
  {
   "cell_type": "code",
   "execution_count": 124,
   "id": "1ad3972f",
   "metadata": {},
   "outputs": [
    {
     "name": "stdout",
     "output_type": "stream",
     "text": [
      "details of videos published on january:           video_id                                              title  \\\n",
      "27     -2Gwm7QfBnE                                    Q&A With Naisha   \n",
      "48     -4sfXSHSxzA           SURPRISING BRENT WITH HIS TIKTOK CRUSH!!   \n",
      "95     -AJD1Fc5rpQ  WE ARE HAVING A BABY! | finding out i'm pregna...   \n",
      "103    -AuJiwjsmWk              Do Ugly Foods Taste Worse? Taste Test   \n",
      "182    -JhqO2KWr5U                                   Schlatt gets fit   \n",
      "...            ...                                                ...   \n",
      "37300  zmzFL5bG-jc  DEVINE MON PERSONNAGE AVANT AKINATOR ! (c'est ...   \n",
      "37329  zpzjex7qwrA  Lampard Sacked Within Days Rorys Misery | Chel...   \n",
      "37345  zqyv-B6mnBM                 Lil Wayne - Ain't Got Time (Audio)   \n",
      "37383  zwfu1-24T7Q  PRADA Cup Day 1 | Full Race Replay | PRADA Cup...   \n",
      "37418  zziBybeSAtw  PELICANS at LAKERS | FULL GAME HIGHLIGHTS | Ja...   \n",
      "\n",
      "                     channel_id       channel_title        published_at  \\\n",
      "27     UCYwNMbogQFzMccPSuy-pPWg           MianTwins 2021-01-21 00:05:47   \n",
      "48     UCPpATKqmMV-CNRNWYaDUwiA        Alexa Rivera 2021-01-16 21:40:04   \n",
      "95     UCVsTboAhpnuL6j-tDePvNwQ      Tess Christine 2021-01-03 21:53:48   \n",
      "103    UCzpCc5n9hqiVC7HhPwcIKEg  Good Mythical MORE 2021-01-19 11:00:01   \n",
      "182    UCWZp4y1jqBuvLtiyxSs_ZBw             Big guy 2021-01-24 22:50:57   \n",
      "...                         ...                 ...                 ...   \n",
      "37300  UCIlr3byh6wmXgcPx_Tm9Ocw             Piwerre 2021-01-16 16:12:19   \n",
      "37329  UCkD-ZOixI0a9FjIExDsHsbg        The Kick Off 2021-01-03 20:13:49   \n",
      "37345  UCO9zJy7HWrIS3ojB4Lr7Yqw           Lil Wayne 2021-01-21 05:00:10   \n",
      "37383  UCo15ZYO_XDRU9LI30OPtxAg       America's Cup 2021-01-15 04:07:55   \n",
      "37418  UCWJ2lWNubArHWmf3FIHbfcQ                 NBA 2021-01-16 05:39:05   \n",
      "\n",
      "       view_count   likes  dislikes  comment_count  \\\n",
      "27         872372   38626       239            621   \n",
      "48        6504784  262477      5779           7907   \n",
      "95         533084   38965       119           1650   \n",
      "103       1057077   22526       531            773   \n",
      "182       1724965  119431       325           1578   \n",
      "...           ...     ...       ...            ...   \n",
      "37300      670357   54462       832           1249   \n",
      "37329      428646   12060       296           1505   \n",
      "37345     2238244   58925      2365           5539   \n",
      "37383      317382    2008        83            192   \n",
      "37418     2841917   20759      1049           2624   \n",
      "\n",
      "                                                    tags  \\\n",
      "27                                                         \n",
      "48                                                         \n",
      "95                                                         \n",
      "103    gmm good mythical morning rhettandlink rhett a...   \n",
      "182    jschlatt big guy jschlatt highlights schlatt j...   \n",
      "...                                                  ...   \n",
      "37300  Piwerre frere de michou crouton among us devin...   \n",
      "37329  Premier league Chelsea chelsea 1-3 Man City Ch...   \n",
      "37345  lil wayne weezy weezy wednesday wayne carter y...   \n",
      "37383  America's Cup Americas Cup AC36 AC75 Presented...   \n",
      "37418  NBA G League Basketball game-0022000187 Lakers...   \n",
      "\n",
      "                                             description  \\\n",
      "27     Hey Guys!!! this has been the most requested v...   \n",
      "48     He had no idea! Thank you guys so much for wat...   \n",
      "95     I am so happy to tell you that I am pregnant!!...   \n",
      "103    Today, we're doing a blind taste test to deter...   \n",
      "182                    #jschlatt #schlatt #bigguy #short   \n",
      "...                                                  ...   \n",
      "37300   Discord Piwerre : https://discord.gg/QBduPgAA...   \n",
      "37329  The Kick Off watched Manchester City destroy C...   \n",
      "37345  Official audio for Lil Wayne \"Ain't Got Time\",...   \n",
      "37383  The opening day of the PRADA Cup in Auckland, ...   \n",
      "37418  PELICANS at LAKERS | FULL GAME HIGHLIGHTS | Ja...   \n",
      "\n",
      "                                                comments published_month  \n",
      "27     I feel like Nate and Aishas personality match ...             Jan  \n",
      "48     Thank you guys for watching and don't forget t...             Jan  \n",
      "95     Okay I needed a moment to collect my thoughts ...             Jan  \n",
      "103    \"there's nothing wrong with it being bent\"\\nI ...             Jan  \n",
      "182    Schlatt is single handedly wiping out all the ...             Jan  \n",
      "...                                                  ...             ...  \n",
      "37300  Mdr michou quand c'est pas ses tournage il fou...             Jan  \n",
      "37329  True Its like a fighter who Geordie But I thou...             Jan  \n",
      "37345  RIP Juice Wrld, wrote that on two cups, pour o...             Jan  \n",
      "37383  Incredible how these boats evolve in a short t...             Jan  \n",
      "37418  Montrezl Harrell is going crazy with the rebou...             Jan  \n",
      "\n",
      "[2099 rows x 13 columns]\n",
      "\n",
      "\n",
      "\n",
      " video_id           2099\n",
      "title              2097\n",
      "channel_id         1430\n",
      "channel_title      1427\n",
      "published_at       2072\n",
      "view_count         2098\n",
      "likes              2077\n",
      "dislikes           1482\n",
      "comment_count      1837\n",
      "tags               1808\n",
      "description        2042\n",
      "comments           2099\n",
      "published_month       1\n",
      "dtype: int64\n"
     ]
    }
   ],
   "source": [
    "jan_vids=data_copy[data_copy['published_at'].dt.month == 1]   \n",
    "\n",
    "# using the atributes from datetime datatype to get the list of videos that were published on january\n",
    "\n",
    "print(\"details of videos published on january:\",jan_vids)\n",
    "print(\"\\n\\n\\n\", jan_vids.nunique())"
   ]
  },
  {
   "cell_type": "markdown",
   "id": "5c925f82",
   "metadata": {},
   "source": [
    "The above results give the details of the videos that were published on the month january. The count of the videos that were released on january is **2099**"
   ]
  }
 ],
 "metadata": {
  "kernelspec": {
   "display_name": "Python 3 (ipykernel)",
   "language": "python",
   "name": "python3"
  },
  "language_info": {
   "codemirror_mode": {
    "name": "ipython",
    "version": 3
   },
   "file_extension": ".py",
   "mimetype": "text/x-python",
   "name": "python",
   "nbconvert_exporter": "python",
   "pygments_lexer": "ipython3",
   "version": "3.11.3"
  }
 },
 "nbformat": 4,
 "nbformat_minor": 5
}
